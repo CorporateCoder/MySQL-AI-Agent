{
 "cells": [
  {
   "cell_type": "markdown",
   "id": "3ec316e6",
   "metadata": {},
   "source": [
    "## Text to MySQL Agent\n"
   ]
  },
  {
   "cell_type": "code",
   "execution_count": 38,
   "id": "5dce62d4",
   "metadata": {},
   "outputs": [
    {
     "data": {
      "text/plain": [
       "True"
      ]
     },
     "execution_count": 38,
     "metadata": {},
     "output_type": "execute_result"
    }
   ],
   "source": [
    "from dotenv import load_dotenv\n",
    "import os\n",
    "\n",
    "load_dotenv(\"../.env\")"
   ]
  },
  {
   "cell_type": "markdown",
   "id": "7af6a0a6",
   "metadata": {},
   "source": [
    "## Download the Chinook Database"
   ]
  },
  {
   "cell_type": "code",
   "execution_count": 39,
   "id": "add907ce",
   "metadata": {},
   "outputs": [
    {
     "name": "stdout",
     "output_type": "stream",
     "text": [
      "Chinook.db downloaded successfully.\n"
     ]
    }
   ],
   "source": [
    "import requests\n",
    "\n",
    "url = \"https://github.com/laxmimerit/All-CSV-ML-Data-Files-Download/raw/refs/heads/master/db_samples/Chinook.db\"\n",
    "\n",
    "response = requests.get(url)\n",
    "\n",
    "if response.status_code == 200:\n",
    "    with open(\"Chinook.db\", \"wb\") as file:\n",
    "        file.write(response.content)\n",
    "    print(\"Chinook.db downloaded successfully.\")\n",
    "    \n",
    "else:\n",
    "    print(f\"Failed to download Chinook.db. Status code: {response.status_code}\")"
   ]
  },
  {
   "cell_type": "markdown",
   "id": "2ba59030",
   "metadata": {},
   "source": [
    "## LLM Connection and MySQL Tools"
   ]
  },
  {
   "cell_type": "code",
   "execution_count": 40,
   "id": "acd16f9e",
   "metadata": {},
   "outputs": [],
   "source": [
    "from langchain_community.utilities import SQLDatabase\n",
    "\n",
    "db = SQLDatabase.from_uri(\"sqlite:///Chinook.db\")"
   ]
  },
  {
   "cell_type": "code",
   "execution_count": 41,
   "id": "22030e18",
   "metadata": {},
   "outputs": [
    {
     "data": {
      "text/plain": [
       "['Album',\n",
       " 'Artist',\n",
       " 'Customer',\n",
       " 'Employee',\n",
       " 'Genre',\n",
       " 'Invoice',\n",
       " 'InvoiceLine',\n",
       " 'MediaType',\n",
       " 'Playlist',\n",
       " 'PlaylistTrack',\n",
       " 'Track']"
      ]
     },
     "execution_count": 41,
     "metadata": {},
     "output_type": "execute_result"
    }
   ],
   "source": [
    "db.dialect\n",
    "\n",
    "db.get_usable_table_names()"
   ]
  },
  {
   "cell_type": "code",
   "execution_count": 42,
   "id": "97390d4d",
   "metadata": {},
   "outputs": [
    {
     "data": {
      "text/plain": [
       "\"[(1, 'AC/DC'), (2, 'Accept'), (3, 'Aerosmith'), (4, 'Alanis Morissette'), (5, 'Alice In Chains')]\""
      ]
     },
     "execution_count": 42,
     "metadata": {},
     "output_type": "execute_result"
    }
   ],
   "source": [
    "db.run(\"SELECT * FROM Album LIMIT 5\")\n",
    "\n",
    "db.run(\"SELECT * FROM Artist LIMIT 5\")"
   ]
  },
  {
   "cell_type": "code",
   "execution_count": 43,
   "id": "483f7198",
   "metadata": {},
   "outputs": [
    {
     "data": {
      "text/plain": [
       "\"[(1, 2, '2009-01-01 00:00:00', 'Theodor-Heuss-Straße 34', 'Stuttgart', None, 'Germany', '70174', 1.98, 'Leonie', 'Köhler', None, 'Theodor-Heuss-Straße 34', 'Stuttgart', None, 'Germany', '70174', '+49 0711 2842222', None, 'leonekohler@surfeu.de', 5)]\""
      ]
     },
     "execution_count": 43,
     "metadata": {},
     "output_type": "execute_result"
    }
   ],
   "source": [
    "db.run(\"SELECT * from Invoice as inv join Customer as cust on inv.CustomerId = cust.CustomerId limit 1 \")"
   ]
  },
  {
   "cell_type": "markdown",
   "id": "24854a21",
   "metadata": {},
   "source": [
    "## LLM Connection"
   ]
  },
  {
   "cell_type": "code",
   "execution_count": 44,
   "id": "7de084b3",
   "metadata": {},
   "outputs": [
    {
     "data": {
      "text/plain": [
       "AIMessage(content='<think>\\nOkay, the user greeted me with \"Hello, how are you?\" I should respond in a friendly and natural way. First, I need to acknowledge their greeting and express that I\\'m here to help. Since I\\'m an AI, I can\\'t have real feelings, but I should make it clear that I\\'m here to assist them. Maybe add an emoji to keep the tone light.\\n\\nI should also ask them how they\\'re doing to keep the conversation going. It\\'s important to be approachable. Let me make sure the response is concise and not too long. Avoid any technical jargon. Use simple language so it\\'s easy to understand. Check for any grammar mistakes. Alright, that should cover it.\\n</think>\\n\\nHello! I\\'m just a friendly AI here to help you with anything you need. How are you doing today? 😊', additional_kwargs={}, response_metadata={'model': 'qwen3:8b', 'created_at': '2025-07-08T08:52:57.5042909Z', 'done': True, 'done_reason': 'stop', 'total_duration': 12238204300, 'load_duration': 95014400, 'prompt_eval_count': 14, 'prompt_eval_duration': 332292000, 'eval_count': 173, 'eval_duration': 11810377600, 'model_name': 'qwen3:8b'}, id='run--9508ac43-50ab-43db-89ce-339440c0d0cb-0', usage_metadata={'input_tokens': 14, 'output_tokens': 173, 'total_tokens': 187})"
      ]
     },
     "execution_count": 44,
     "metadata": {},
     "output_type": "execute_result"
    }
   ],
   "source": [
    "from langchain_ollama import ChatOllama\n",
    "\n",
    "\n",
    "model = \"qwen3:8b\" #qwen3:8b\n",
    "llm = ChatOllama(model=model, base_url= \"http://localhost:11434\")\n",
    "\n",
    "llm.invoke(\"Hello, how are you?\")"
   ]
  },
  {
   "cell_type": "markdown",
   "id": "6788f13e",
   "metadata": {},
   "source": [
    "## Application State or Graph State "
   ]
  },
  {
   "cell_type": "code",
   "execution_count": 45,
   "id": "1995e7fd",
   "metadata": {},
   "outputs": [],
   "source": [
    "from typing import TypedDict, Annotated \n",
    "\n",
    "class State(TypedDict):\n",
    "    question: str # This is the question asked by the user\n",
    "    query: str # This is the SQL query generated by the LLM\n",
    "    result: str # This is the result of the SQL query\n",
    "    answer: str # This is the final answer generated by the LLM based on the result of the SQL query"
   ]
  },
  {
   "cell_type": "code",
   "execution_count": 46,
   "id": "6c6f520e",
   "metadata": {},
   "outputs": [],
   "source": [
    "from langchain import hub\n",
    "\n",
    "query_prompt_template = hub.pull(\"langchain-ai/sql-query-system-prompt\")"
   ]
  },
  {
   "cell_type": "code",
   "execution_count": 47,
   "id": "db7f4972",
   "metadata": {},
   "outputs": [
    {
     "name": "stdout",
     "output_type": "stream",
     "text": [
      "================================\u001b[1m System Message \u001b[0m================================\n",
      "\n",
      "Given an input question, create a syntactically correct \u001b[33;1m\u001b[1;3m{dialect}\u001b[0m query to run to help find the answer. Unless the user specifies in his question a specific number of examples they wish to obtain, always limit your query to at most \u001b[33;1m\u001b[1;3m{top_k}\u001b[0m results. You can order the results by a relevant column to return the most interesting examples in the database.\n",
      "\n",
      "Never query for all the columns from a specific table, only ask for a the few relevant columns given the question.\n",
      "\n",
      "Pay attention to use only the column names that you can see in the schema description. Be careful to not query for columns that do not exist. Also, pay attention to which column is in which table.\n",
      "\n",
      "Only use the following tables:\n",
      "\u001b[33;1m\u001b[1;3m{table_info}\u001b[0m\n"
     ]
    }
   ],
   "source": [
    "query_prompt_template.messages[0].pretty_print()"
   ]
  },
  {
   "cell_type": "markdown",
   "id": "b26c8c1a",
   "metadata": {},
   "source": [
    "## Write, Execute and Generate MySQL Response "
   ]
  },
  {
   "cell_type": "markdown",
   "id": "ae97054f",
   "metadata": {},
   "source": [
    "### `Write` Node for MySQL Query"
   ]
  },
  {
   "cell_type": "code",
   "execution_count": 48,
   "id": "3a4d9077",
   "metadata": {},
   "outputs": [
    {
     "data": {
      "text/plain": [
       "{'query': typing.Annotated[str, Ellipsis, 'Syntactically correct and valid SQL query.']}"
      ]
     },
     "execution_count": 48,
     "metadata": {},
     "output_type": "execute_result"
    }
   ],
   "source": [
    "from typing import Annotated\n",
    "\n",
    "class QueryOutput(TypedDict):\n",
    "    \"\"\"Generated SQL query.\"\"\"\n",
    "    \n",
    "    query: Annotated[str, ..., \"Syntactically correct and valid SQL query.\"]\n",
    "    \n",
    "\n",
    "QueryOutput({\"query\": \"SELECT * FROM Album LIMIT 2\"})\n",
    "QueryOutput.__annotations__"
   ]
  },
  {
   "cell_type": "code",
   "execution_count": 49,
   "id": "3d59ca18",
   "metadata": {},
   "outputs": [],
   "source": [
    "# print(db.get_table_info())"
   ]
  },
  {
   "cell_type": "code",
   "execution_count": 50,
   "id": "511d9887",
   "metadata": {},
   "outputs": [
    {
     "data": {
      "text/plain": [
       "RunnableBinding(bound=ChatOllama(model='qwen3:8b', base_url='http://localhost:11434'), kwargs={'format': {'title': 'QueryOutput', 'description': 'Generated SQL query.', 'type': 'object', 'properties': {'query': {'description': 'Syntactically correct and valid SQL query.', 'type': 'string'}}, 'required': ['query']}, 'ls_structured_output_format': {'kwargs': {'method': 'json_schema'}, 'schema': {'title': 'QueryOutput', 'description': 'Generated SQL query.', 'type': 'object', 'properties': {'query': {'description': 'Syntactically correct and valid SQL query.', 'type': 'string'}}, 'required': ['query']}}}, config={}, config_factories=[])\n",
       "| JsonOutputParser()"
      ]
     },
     "execution_count": 50,
     "metadata": {},
     "output_type": "execute_result"
    }
   ],
   "source": [
    "llm.with_structured_output(QueryOutput)"
   ]
  },
  {
   "cell_type": "code",
   "execution_count": 51,
   "id": "f9a2ae19",
   "metadata": {},
   "outputs": [
    {
     "data": {
      "text/plain": [
       "{'query': 'SELECT Album.Title, Artist.Name FROM Album INNER JOIN Artist ON Album.ArtistId = Artist.ArtistId ORDER BY Artist.Name LIMIT 5;'}"
      ]
     },
     "execution_count": 51,
     "metadata": {},
     "output_type": "execute_result"
    }
   ],
   "source": [
    "def write_query(state: State):\n",
    "    \"\"\"Generate MySQL query to fetch information.\"\"\"\n",
    "    prompt = query_prompt_template.invoke({\"dialect\": db.dialect, \"top_k\": 5, \"table_info\": db.get_table_info(), \"input\": state[\"question\"]}) \n",
    "    \n",
    "    structured_llm = llm.with_structured_output(QueryOutput)\n",
    "    \n",
    "    result = structured_llm.invoke(prompt)\n",
    "    \n",
    "    return {\n",
    "        \"query\": result[\"query\"]\n",
    "    }\n",
    "\n",
    "\n",
    "write_query({\"question\": \"List all the albums?\"})"
   ]
  },
  {
   "cell_type": "markdown",
   "id": "03552116",
   "metadata": {},
   "source": [
    "## Execute Query"
   ]
  },
  {
   "cell_type": "code",
   "execution_count": 52,
   "id": "79f2262f",
   "metadata": {},
   "outputs": [
    {
     "data": {
      "text/plain": [
       "{'query': 'SELECT COUNT(*) FROM Employee;'}"
      ]
     },
     "execution_count": 52,
     "metadata": {},
     "output_type": "execute_result"
    }
   ],
   "source": [
    "query_prompt_template\n",
    "\n",
    "write_query({\"question\": \"How many employees are there?\"})"
   ]
  },
  {
   "cell_type": "code",
   "execution_count": 53,
   "id": "1554c830",
   "metadata": {},
   "outputs": [
    {
     "data": {
      "text/plain": [
       "{'result': \"[(1, 'For Those About To Rock We Salute You', 1), (2, 'Balls to the Wall', 2)]\"}"
      ]
     },
     "execution_count": 53,
     "metadata": {},
     "output_type": "execute_result"
    }
   ],
   "source": [
    "from langchain_community.tools.sql_database.tool import QuerySQLDatabaseTool\n",
    "\n",
    "def execute_query(state: State):\n",
    "    \"\"\"Execute the SQL query and return the result.\"\"\"\n",
    "    query = state[\"query\"]\n",
    "    execute_query_tool = QuerySQLDatabaseTool(db=db)\n",
    "    \n",
    "    return {\"result\": execute_query_tool.invoke({\"query\": query})}\n",
    "\n",
    "\n",
    "execute_query({\"query\": \"SELECT * FROM Album LIMIT 2\"})\n",
    "    \n",
    "    \n",
    "    "
   ]
  },
  {
   "cell_type": "markdown",
   "id": "4b52cb1c",
   "metadata": {},
   "source": [
    "## Generate Answer "
   ]
  },
  {
   "cell_type": "code",
   "execution_count": 54,
   "id": "3c68fe67",
   "metadata": {},
   "outputs": [],
   "source": [
    "#question, query, result, answer\n",
    "def generate_answer(state: State):\n",
    "    \"\"\"Generate answer using retrieved information as the context.\"\"\"\n",
    "    \n",
    "    prompt = (\n",
    "        \"Given the following user question, corresponding SQL query, \" \n",
    "        \"and SQL result, asnwer the user question. \\n\\n\"\n",
    "        f\"Question: {state['question']}\\n\"\n",
    "        f\"SQL Query: {state['query']}\\n\"\n",
    "        f\"SQL Result: {state['result']}\"\n",
    "    )\n",
    "    \n",
    "    response = llm.invoke(prompt)\n",
    "    \n",
    "    return {\"answer\": response.content}\n",
    "\n",
    "\n",
    "\n"
   ]
  },
  {
   "cell_type": "code",
   "execution_count": 55,
   "id": "5a079633",
   "metadata": {},
   "outputs": [
    {
     "data": {
      "text/plain": [
       "{'query': 'SELECT COUNT(*) FROM Employee;'}"
      ]
     },
     "execution_count": 55,
     "metadata": {},
     "output_type": "execute_result"
    }
   ],
   "source": [
    "question = \"How many employees are there?\" \n",
    "query = write_query({\"question\": question})\n",
    "query "
   ]
  },
  {
   "cell_type": "code",
   "execution_count": 56,
   "id": "d2777e56",
   "metadata": {},
   "outputs": [
    {
     "data": {
      "text/plain": [
       "{'result': '[(8,)]'}"
      ]
     },
     "execution_count": 56,
     "metadata": {},
     "output_type": "execute_result"
    }
   ],
   "source": [
    "result = execute_query(query)\n",
    "result"
   ]
  },
  {
   "cell_type": "code",
   "execution_count": 57,
   "id": "5cb162e7",
   "metadata": {},
   "outputs": [
    {
     "data": {
      "text/plain": [
       "{'question': 'How many employees are there?',\n",
       " 'query': 'SELECT COUNT(*) FROM Employee;',\n",
       " 'result': '[(8,)]'}"
      ]
     },
     "execution_count": 57,
     "metadata": {},
     "output_type": "execute_result"
    }
   ],
   "source": [
    "state = {\"question\": question, **query, **result}\n",
    "state"
   ]
  },
  {
   "cell_type": "code",
   "execution_count": 58,
   "id": "16b92a0c",
   "metadata": {},
   "outputs": [
    {
     "data": {
      "text/plain": [
       "{'answer': '<think>\\nOkay, the user is asking, \"How many employees are there?\" Let me check the SQL query and result they provided.\\n\\nThe SQL query is SELECT COUNT(*) FROM Employee;. That makes sense because COUNT(*) counts all rows in the Employee table, which should correspond to the number of employees. The result given is [(8,)]. The parentheses and comma suggest that the result is a single row with one column, and the value is 8. \\n\\nSo the answer should be straightforward. The count is 8, so there are 8 employees. I just need to present that in a clear sentence. Let me make sure there\\'s no trick here. The query is correct, and the result is 8. No need for further calculations. The user just wants the number, so the answer is 8.\\n</think>\\n\\nThe SQL query `SELECT COUNT(*) FROM Employee;` returns the total number of rows in the `Employee` table, which represents the count of employees. The result `(8,)` indicates there are **8 employees** in total. \\n\\n**Answer:** There are 8 employees.'}"
      ]
     },
     "execution_count": 58,
     "metadata": {},
     "output_type": "execute_result"
    }
   ],
   "source": [
    "generate_answer(state)"
   ]
  },
  {
   "cell_type": "markdown",
   "id": "bffbd42e",
   "metadata": {},
   "source": [
    "## Building Graph"
   ]
  },
  {
   "cell_type": "code",
   "execution_count": 59,
   "id": "ddd3825c",
   "metadata": {},
   "outputs": [],
   "source": [
    "from langgraph.graph import START, StateGraph\n",
    "from IPython.display import display, Image "
   ]
  },
  {
   "cell_type": "code",
   "execution_count": 60,
   "id": "54b0656f",
   "metadata": {},
   "outputs": [],
   "source": [
    "graph_builder = StateGraph(State)\n",
    "\n",
    "graph_builder.add_node(\"write_query\", write_query)\n",
    "graph_builder.add_node(\"execute_query\", execute_query)\n",
    "graph_builder.add_node(\"generate_answer\", generate_answer)\n",
    "\n",
    "graph_builder.add_edge(START, \"write_query\")\n",
    "graph_builder.add_edge(\"write_query\", \"execute_query\")\n",
    "graph_builder.add_edge(\"execute_query\", \"generate_answer\")\n",
    "\n",
    "graph = graph_builder.compile()"
   ]
  },
  {
   "cell_type": "code",
   "execution_count": 61,
   "id": "32f2fc14",
   "metadata": {},
   "outputs": [
    {
     "data": {
      "image/png": "[encoded data removed]",
      "text/plain": [
       "<IPython.core.display.Image object>"
      ]
     },
     "metadata": {},
     "output_type": "display_data"
    }
   ],
   "source": [
    "display(Image(graph.get_graph().draw_mermaid_png()))"
   ]
  },
  {
   "cell_type": "code",
   "execution_count": 62,
   "id": "66cfb874",
   "metadata": {},
   "outputs": [
    {
     "name": "stdout",
     "output_type": "stream",
     "text": [
      "{'write_query': {'query': 'SELECT COUNT(*) AS num_employees FROM Employee;'}}\n",
      "{'execute_query': {'result': '[(8,)]'}}\n",
      "{'generate_answer': {'answer': '<think>\\nOkay, let\\'s see. The user asked, \"How many employees are there?\" So they want to know the total number of employees in the database.\\n\\nThe SQL query provided is SELECT COUNT(*) AS num_employees FROM Employee;. That makes sense because COUNT(*) counts all rows in the Employee table, which should correspond to the number of employees. The result from the SQL query is [(8,)], which means the count is 8.\\n\\nSo the answer should be straightforward. The query executed and returned 8 as the number of employees. I just need to present that result in a clear way. The user probably just needs a direct answer without any extra explanation, but since they asked for the answer in the box, I\\'ll make sure to state it clearly.\\n</think>\\n\\nThe SQL query executed successfully and returned a result of `8`. Therefore, the answer to the question is:\\n\\n**There are 8 employees.**'}}\n"
     ]
    }
   ],
   "source": [
    "query = {\"question\": \"How many employees are there?\"}\n",
    "for step in graph.stream(query, stream_mode=\"updates\"):\n",
    "    print(step)"
   ]
  },
  {
   "cell_type": "markdown",
   "id": "5cab5075",
   "metadata": {},
   "source": [
    "## LangGraph Agent "
   ]
  },
  {
   "cell_type": "code",
   "execution_count": 63,
   "id": "7de51123",
   "metadata": {},
   "outputs": [],
   "source": [
    "from langchain import hub \n",
    "\n",
    "prompt = hub.pull(\"langchain-ai/sql-agent-system-prompt\")"
   ]
  },
  {
   "cell_type": "code",
   "execution_count": 64,
   "id": "6b5cfaee",
   "metadata": {},
   "outputs": [
    {
     "name": "stdout",
     "output_type": "stream",
     "text": [
      "================================\u001b[1m System Message \u001b[0m================================\n",
      "\n",
      "You are an agent designed to interact with a SQL database.\n",
      "Given an input question, create a syntactically correct \u001b[33;1m\u001b[1;3m{dialect}\u001b[0m query to run, then look at the results of the query and return the answer.\n",
      "Unless the user specifies a specific number of examples they wish to obtain, always limit your query to at most \u001b[33;1m\u001b[1;3m{top_k}\u001b[0m results.\n",
      "You can order the results by a relevant column to return the most interesting examples in the database.\n",
      "Never query for all the columns from a specific table, only ask for the relevant columns given the question.\n",
      "You have access to tools for interacting with the database.\n",
      "Only use the below tools. Only use the information returned by the below tools to construct your final answer.\n",
      "You MUST double check your query before executing it. If you get an error while executing a query, rewrite the query and try again.\n",
      "\n",
      "DO NOT make any DML statements (INSERT, UPDATE, DELETE, DROP etc.) to the database.\n",
      "\n",
      "To start you should ALWAYS look at the tables in the database to see what you can query.\n",
      "Do NOT skip this step.\n",
      "Then you should query the schema of the most relevant tables.\n"
     ]
    }
   ],
   "source": [
    "prompt.messages[0].pretty_print()"
   ]
  },
  {
   "cell_type": "code",
   "execution_count": 65,
   "id": "0e54a8a1",
   "metadata": {},
   "outputs": [],
   "source": [
    "system_prompt = prompt.invoke({\"dialect\": db.dialect, \"top_k\": 5})\n",
    "system_prompt = prompt.format(dialect = db.dialect, top_k = 5)"
   ]
  },
  {
   "cell_type": "code",
   "execution_count": 66,
   "id": "b392ac74",
   "metadata": {},
   "outputs": [
    {
     "data": {
      "text/plain": [
       "'System: You are an agent designed to interact with a SQL database.\\nGiven an input question, create a syntactically correct sqlite query to run, then look at the results of the query and return the answer.\\nUnless the user specifies a specific number of examples they wish to obtain, always limit your query to at most 5 results.\\nYou can order the results by a relevant column to return the most interesting examples in the database.\\nNever query for all the columns from a specific table, only ask for the relevant columns given the question.\\nYou have access to tools for interacting with the database.\\nOnly use the below tools. Only use the information returned by the below tools to construct your final answer.\\nYou MUST double check your query before executing it. If you get an error while executing a query, rewrite the query and try again.\\n\\nDO NOT make any DML statements (INSERT, UPDATE, DELETE, DROP etc.) to the database.\\n\\nTo start you should ALWAYS look at the tables in the database to see what you can query.\\nDo NOT skip this step.\\nThen you should query the schema of the most relevant tables.'"
      ]
     },
     "execution_count": 66,
     "metadata": {},
     "output_type": "execute_result"
    }
   ],
   "source": [
    "system_prompt"
   ]
  },
  {
   "cell_type": "code",
   "execution_count": 67,
   "id": "7eb453fc",
   "metadata": {},
   "outputs": [],
   "source": [
    "from langchain_community.agent_toolkits import SQLDatabaseToolkit\n",
    "\n",
    "toolkit = SQLDatabaseToolkit(db=db, llm=llm)"
   ]
  },
  {
   "cell_type": "code",
   "execution_count": 68,
   "id": "0150abbf",
   "metadata": {},
   "outputs": [
    {
     "data": {
      "text/plain": [
       "{'table_info': '\\nCREATE TABLE \"Album\" (\\n\\t\"AlbumId\" INTEGER NOT NULL, \\n\\t\"Title\" NVARCHAR(160) NOT NULL, \\n\\t\"ArtistId\" INTEGER NOT NULL, \\n\\tPRIMARY KEY (\"AlbumId\"), \\n\\tFOREIGN KEY(\"ArtistId\") REFERENCES \"Artist\" (\"ArtistId\")\\n)\\n\\n/*\\n3 rows from Album table:\\nAlbumId\\tTitle\\tArtistId\\n1\\tFor Those About To Rock We Salute You\\t1\\n2\\tBalls to the Wall\\t2\\n3\\tRestless and Wild\\t2\\n*/\\n\\n\\nCREATE TABLE \"Artist\" (\\n\\t\"ArtistId\" INTEGER NOT NULL, \\n\\t\"Name\" NVARCHAR(120), \\n\\tPRIMARY KEY (\"ArtistId\")\\n)\\n\\n/*\\n3 rows from Artist table:\\nArtistId\\tName\\n1\\tAC/DC\\n2\\tAccept\\n3\\tAerosmith\\n*/\\n\\n\\nCREATE TABLE \"Customer\" (\\n\\t\"CustomerId\" INTEGER NOT NULL, \\n\\t\"FirstName\" NVARCHAR(40) NOT NULL, \\n\\t\"LastName\" NVARCHAR(20) NOT NULL, \\n\\t\"Company\" NVARCHAR(80), \\n\\t\"Address\" NVARCHAR(70), \\n\\t\"City\" NVARCHAR(40), \\n\\t\"State\" NVARCHAR(40), \\n\\t\"Country\" NVARCHAR(40), \\n\\t\"PostalCode\" NVARCHAR(10), \\n\\t\"Phone\" NVARCHAR(24), \\n\\t\"Fax\" NVARCHAR(24), \\n\\t\"Email\" NVARCHAR(60) NOT NULL, \\n\\t\"SupportRepId\" INTEGER, \\n\\tPRIMARY KEY (\"CustomerId\"), \\n\\tFOREIGN KEY(\"SupportRepId\") REFERENCES \"Employee\" (\"EmployeeId\")\\n)\\n\\n/*\\n3 rows from Customer table:\\nCustomerId\\tFirstName\\tLastName\\tCompany\\tAddress\\tCity\\tState\\tCountry\\tPostalCode\\tPhone\\tFax\\tEmail\\tSupportRepId\\n1\\tLuís\\tGonçalves\\tEmbraer - Empresa Brasileira de Aeronáutica S.A.\\tAv. Brigadeiro Faria Lima, 2170\\tSão José dos Campos\\tSP\\tBrazil\\t12227-000\\t+55 (12) 3923-5555\\t+55 (12) 3923-5566\\tluisg@embraer.com.br\\t3\\n2\\tLeonie\\tKöhler\\tNone\\tTheodor-Heuss-Straße 34\\tStuttgart\\tNone\\tGermany\\t70174\\t+49 0711 2842222\\tNone\\tleonekohler@surfeu.de\\t5\\n3\\tFrançois\\tTremblay\\tNone\\t1498 rue Bélanger\\tMontréal\\tQC\\tCanada\\tH2G 1A7\\t+1 (514) 721-4711\\tNone\\tftremblay@gmail.com\\t3\\n*/\\n\\n\\nCREATE TABLE \"Employee\" (\\n\\t\"EmployeeId\" INTEGER NOT NULL, \\n\\t\"LastName\" NVARCHAR(20) NOT NULL, \\n\\t\"FirstName\" NVARCHAR(20) NOT NULL, \\n\\t\"Title\" NVARCHAR(30), \\n\\t\"ReportsTo\" INTEGER, \\n\\t\"BirthDate\" DATETIME, \\n\\t\"HireDate\" DATETIME, \\n\\t\"Address\" NVARCHAR(70), \\n\\t\"City\" NVARCHAR(40), \\n\\t\"State\" NVARCHAR(40), \\n\\t\"Country\" NVARCHAR(40), \\n\\t\"PostalCode\" NVARCHAR(10), \\n\\t\"Phone\" NVARCHAR(24), \\n\\t\"Fax\" NVARCHAR(24), \\n\\t\"Email\" NVARCHAR(60), \\n\\tPRIMARY KEY (\"EmployeeId\"), \\n\\tFOREIGN KEY(\"ReportsTo\") REFERENCES \"Employee\" (\"EmployeeId\")\\n)\\n\\n/*\\n3 rows from Employee table:\\nEmployeeId\\tLastName\\tFirstName\\tTitle\\tReportsTo\\tBirthDate\\tHireDate\\tAddress\\tCity\\tState\\tCountry\\tPostalCode\\tPhone\\tFax\\tEmail\\n1\\tAdams\\tAndrew\\tGeneral Manager\\tNone\\t1962-02-18 00:00:00\\t2002-08-14 00:00:00\\t11120 Jasper Ave NW\\tEdmonton\\tAB\\tCanada\\tT5K 2N1\\t+1 (780) 428-9482\\t+1 (780) 428-3457\\tandrew@chinookcorp.com\\n2\\tEdwards\\tNancy\\tSales Manager\\t1\\t1958-12-08 00:00:00\\t2002-05-01 00:00:00\\t825 8 Ave SW\\tCalgary\\tAB\\tCanada\\tT2P 2T3\\t+1 (403) 262-3443\\t+1 (403) 262-3322\\tnancy@chinookcorp.com\\n3\\tPeacock\\tJane\\tSales Support Agent\\t2\\t1973-08-29 00:00:00\\t2002-04-01 00:00:00\\t1111 6 Ave SW\\tCalgary\\tAB\\tCanada\\tT2P 5M5\\t+1 (403) 262-3443\\t+1 (403) 262-6712\\tjane@chinookcorp.com\\n*/\\n\\n\\nCREATE TABLE \"Genre\" (\\n\\t\"GenreId\" INTEGER NOT NULL, \\n\\t\"Name\" NVARCHAR(120), \\n\\tPRIMARY KEY (\"GenreId\")\\n)\\n\\n/*\\n3 rows from Genre table:\\nGenreId\\tName\\n1\\tRock\\n2\\tJazz\\n3\\tMetal\\n*/\\n\\n\\nCREATE TABLE \"Invoice\" (\\n\\t\"InvoiceId\" INTEGER NOT NULL, \\n\\t\"CustomerId\" INTEGER NOT NULL, \\n\\t\"InvoiceDate\" DATETIME NOT NULL, \\n\\t\"BillingAddress\" NVARCHAR(70), \\n\\t\"BillingCity\" NVARCHAR(40), \\n\\t\"BillingState\" NVARCHAR(40), \\n\\t\"BillingCountry\" NVARCHAR(40), \\n\\t\"BillingPostalCode\" NVARCHAR(10), \\n\\t\"Total\" NUMERIC(10, 2) NOT NULL, \\n\\tPRIMARY KEY (\"InvoiceId\"), \\n\\tFOREIGN KEY(\"CustomerId\") REFERENCES \"Customer\" (\"CustomerId\")\\n)\\n\\n/*\\n3 rows from Invoice table:\\nInvoiceId\\tCustomerId\\tInvoiceDate\\tBillingAddress\\tBillingCity\\tBillingState\\tBillingCountry\\tBillingPostalCode\\tTotal\\n1\\t2\\t2009-01-01 00:00:00\\tTheodor-Heuss-Straße 34\\tStuttgart\\tNone\\tGermany\\t70174\\t1.98\\n2\\t4\\t2009-01-02 00:00:00\\tUllevålsveien 14\\tOslo\\tNone\\tNorway\\t0171\\t3.96\\n3\\t8\\t2009-01-03 00:00:00\\tGrétrystraat 63\\tBrussels\\tNone\\tBelgium\\t1000\\t5.94\\n*/\\n\\n\\nCREATE TABLE \"InvoiceLine\" (\\n\\t\"InvoiceLineId\" INTEGER NOT NULL, \\n\\t\"InvoiceId\" INTEGER NOT NULL, \\n\\t\"TrackId\" INTEGER NOT NULL, \\n\\t\"UnitPrice\" NUMERIC(10, 2) NOT NULL, \\n\\t\"Quantity\" INTEGER NOT NULL, \\n\\tPRIMARY KEY (\"InvoiceLineId\"), \\n\\tFOREIGN KEY(\"TrackId\") REFERENCES \"Track\" (\"TrackId\"), \\n\\tFOREIGN KEY(\"InvoiceId\") REFERENCES \"Invoice\" (\"InvoiceId\")\\n)\\n\\n/*\\n3 rows from InvoiceLine table:\\nInvoiceLineId\\tInvoiceId\\tTrackId\\tUnitPrice\\tQuantity\\n1\\t1\\t2\\t0.99\\t1\\n2\\t1\\t4\\t0.99\\t1\\n3\\t2\\t6\\t0.99\\t1\\n*/\\n\\n\\nCREATE TABLE \"MediaType\" (\\n\\t\"MediaTypeId\" INTEGER NOT NULL, \\n\\t\"Name\" NVARCHAR(120), \\n\\tPRIMARY KEY (\"MediaTypeId\")\\n)\\n\\n/*\\n3 rows from MediaType table:\\nMediaTypeId\\tName\\n1\\tMPEG audio file\\n2\\tProtected AAC audio file\\n3\\tProtected MPEG-4 video file\\n*/\\n\\n\\nCREATE TABLE \"Playlist\" (\\n\\t\"PlaylistId\" INTEGER NOT NULL, \\n\\t\"Name\" NVARCHAR(120), \\n\\tPRIMARY KEY (\"PlaylistId\")\\n)\\n\\n/*\\n3 rows from Playlist table:\\nPlaylistId\\tName\\n1\\tMusic\\n2\\tMovies\\n3\\tTV Shows\\n*/\\n\\n\\nCREATE TABLE \"PlaylistTrack\" (\\n\\t\"PlaylistId\" INTEGER NOT NULL, \\n\\t\"TrackId\" INTEGER NOT NULL, \\n\\tPRIMARY KEY (\"PlaylistId\", \"TrackId\"), \\n\\tFOREIGN KEY(\"TrackId\") REFERENCES \"Track\" (\"TrackId\"), \\n\\tFOREIGN KEY(\"PlaylistId\") REFERENCES \"Playlist\" (\"PlaylistId\")\\n)\\n\\n/*\\n3 rows from PlaylistTrack table:\\nPlaylistId\\tTrackId\\n1\\t3402\\n1\\t3389\\n1\\t3390\\n*/\\n\\n\\nCREATE TABLE \"Track\" (\\n\\t\"TrackId\" INTEGER NOT NULL, \\n\\t\"Name\" NVARCHAR(200) NOT NULL, \\n\\t\"AlbumId\" INTEGER, \\n\\t\"MediaTypeId\" INTEGER NOT NULL, \\n\\t\"GenreId\" INTEGER, \\n\\t\"Composer\" NVARCHAR(220), \\n\\t\"Milliseconds\" INTEGER NOT NULL, \\n\\t\"Bytes\" INTEGER, \\n\\t\"UnitPrice\" NUMERIC(10, 2) NOT NULL, \\n\\tPRIMARY KEY (\"TrackId\"), \\n\\tFOREIGN KEY(\"MediaTypeId\") REFERENCES \"MediaType\" (\"MediaTypeId\"), \\n\\tFOREIGN KEY(\"GenreId\") REFERENCES \"Genre\" (\"GenreId\"), \\n\\tFOREIGN KEY(\"AlbumId\") REFERENCES \"Album\" (\"AlbumId\")\\n)\\n\\n/*\\n3 rows from Track table:\\nTrackId\\tName\\tAlbumId\\tMediaTypeId\\tGenreId\\tComposer\\tMilliseconds\\tBytes\\tUnitPrice\\n1\\tFor Those About To Rock (We Salute You)\\t1\\t1\\t1\\tAngus Young, Malcolm Young, Brian Johnson\\t343719\\t11170334\\t0.99\\n2\\tBalls to the Wall\\t2\\t2\\t1\\tNone\\t342562\\t5510424\\t0.99\\n3\\tFast As a Shark\\t3\\t2\\t1\\tF. Baltes, S. Kaufman, U. Dirkscneider & W. Hoffman\\t230619\\t3990994\\t0.99\\n*/',\n",
       " 'table_names': 'Album, Artist, Customer, Employee, Genre, Invoice, InvoiceLine, MediaType, Playlist, PlaylistTrack, Track'}"
      ]
     },
     "execution_count": 68,
     "metadata": {},
     "output_type": "execute_result"
    }
   ],
   "source": [
    "toolkit.get_context()"
   ]
  },
  {
   "cell_type": "code",
   "execution_count": 69,
   "id": "b5509ae8",
   "metadata": {},
   "outputs": [
    {
     "data": {
      "text/plain": [
       "[QuerySQLDatabaseTool(description=\"Input to this tool is a detailed and correct SQL query, output is a result from the database. If the query is not correct, an error message will be returned. If an error is returned, rewrite the query, check the query, and try again. If you encounter an issue with Unknown column 'xxxx' in 'field list', use sql_db_schema to query the correct table fields.\", db=<langchain_community.utilities.sql_database.SQLDatabase object at 0x000001C291DD9BD0>),\n",
       " InfoSQLDatabaseTool(description='Input to this tool is a comma-separated list of tables, output is the schema and sample rows for those tables. Be sure that the tables actually exist by calling sql_db_list_tables first! Example Input: table1, table2, table3', db=<langchain_community.utilities.sql_database.SQLDatabase object at 0x000001C291DD9BD0>),\n",
       " ListSQLDatabaseTool(db=<langchain_community.utilities.sql_database.SQLDatabase object at 0x000001C291DD9BD0>),\n",
       " QuerySQLCheckerTool(description='Use this tool to double check if your query is correct before executing it. Always use this tool before executing a query with sql_db_query!', db=<langchain_community.utilities.sql_database.SQLDatabase object at 0x000001C291DD9BD0>, llm=ChatOllama(model='qwen3:8b', base_url='http://localhost:11434'), llm_chain=LLMChain(verbose=False, prompt=PromptTemplate(input_variables=['dialect', 'query'], input_types={}, partial_variables={}, template='\\n{query}\\nDouble check the {dialect} query above for common mistakes, including:\\n- Using NOT IN with NULL values\\n- Using UNION when UNION ALL should have been used\\n- Using BETWEEN for exclusive ranges\\n- Data type mismatch in predicates\\n- Properly quoting identifiers\\n- Using the correct number of arguments for functions\\n- Casting to the correct data type\\n- Using the proper columns for joins\\n\\nIf there are any of the above mistakes, rewrite the query. If there are no mistakes, just reproduce the original query.\\n\\nOutput the final SQL query only.\\n\\nSQL Query: '), llm=ChatOllama(model='qwen3:8b', base_url='http://localhost:11434'), output_parser=StrOutputParser(), llm_kwargs={}))]"
      ]
     },
     "execution_count": 69,
     "metadata": {},
     "output_type": "execute_result"
    }
   ],
   "source": [
    "tools = toolkit.get_tools()\n",
    "tools"
   ]
  },
  {
   "cell_type": "code",
   "execution_count": 70,
   "id": "339733d8",
   "metadata": {},
   "outputs": [
    {
     "data": {
      "text/plain": [
       "\"[(1, 'For Those About To Rock We Salute You', 1), (2, 'Balls to the Wall', 2)]\""
      ]
     },
     "execution_count": 70,
     "metadata": {},
     "output_type": "execute_result"
    }
   ],
   "source": [
    "tools[0].invoke(\"select * from Album limit 2\")"
   ]
  },
  {
   "cell_type": "code",
   "execution_count": 71,
   "id": "38cbef42",
   "metadata": {},
   "outputs": [],
   "source": [
    "# print(tools[1].invoke(\"Album, Customer\"))"
   ]
  },
  {
   "cell_type": "markdown",
   "id": "f439f259",
   "metadata": {},
   "source": [
    "## Agent"
   ]
  },
  {
   "cell_type": "code",
   "execution_count": 72,
   "id": "35ac7b2e",
   "metadata": {},
   "outputs": [],
   "source": [
    "from langgraph.prebuilt import create_react_agent\n",
    "from langchain_core.messages import HumanMessage "
   ]
  },
  {
   "cell_type": "code",
   "execution_count": 73,
   "id": "237c0e90",
   "metadata": {},
   "outputs": [
    {
     "data": {
      "image/png": "[encoded data removed]",
      "text/plain": [
       "<IPython.core.display.Image object>"
      ]
     },
     "metadata": {},
     "output_type": "display_data"
    }
   ],
   "source": [
    "agent_executor = create_react_agent(llm, tools)\n",
    "display(Image(agent_executor.get_graph().draw_mermaid_png())) "
   ]
  },
  {
   "cell_type": "code",
   "execution_count": 77,
   "id": "491fc1d9",
   "metadata": {},
   "outputs": [
    {
     "name": "stdout",
     "output_type": "stream",
     "text": [
      "{'agent': {'messages': [AIMessage(content=\"<think>\\nOkay, the user is asking for the titles of the albums. First, I need to figure out which table and columns are relevant. Since they mentioned albums, there's probably a table like 'albums' or maybe 'music' or something similar. But I don't know the exact structure yet.\\n\\nI should start by checking the available tables in the database. The sql_db_list_tables function can help with that. Let me call that first. Once I have the list of tables, I can determine which one contains album information. \\n\\nAssuming there's an 'albums' table, the next step is to check its schema using sql_db_schema. This will show me the columns, so I can find the correct column name for the title, maybe 'title' or 'album_title'. \\n\\nAfter knowing the correct column name, I can construct an SQL query to select the titles from the albums table. Before executing, I should use sql_db_query_checker to ensure the query is correct. If there's an error, like an unknown column, I'll need to adjust the query based on the schema information. \\n\\nOnce the query is verified, I can run it with sql_db_query to get the results and present the album titles to the user.\\n</think>\\n\\n\", additional_kwargs={}, response_metadata={'model': 'qwen3:8b', 'created_at': '2025-07-08T09:03:16.6321584Z', 'done': True, 'done_reason': 'stop', 'total_duration': 21620706300, 'load_duration': 69662700, 'prompt_eval_count': 490, 'prompt_eval_duration': 1313332600, 'eval_count': 276, 'eval_duration': 20237144100, 'model_name': 'qwen3:8b'}, id='run--2a2aa1fa-6e70-483b-85fc-de63d2f407bb-0', tool_calls=[{'name': 'sql_db_list_tables', 'args': {'tool_input': ''}, 'id': '22753eda-2077-40b1-b89d-673b87d1c541', 'type': 'tool_call'}], usage_metadata={'input_tokens': 490, 'output_tokens': 276, 'total_tokens': 766})]}}\n",
      "{'tools': {'messages': [ToolMessage(content='Album, Artist, Customer, Employee, Genre, Invoice, InvoiceLine, MediaType, Playlist, PlaylistTrack, Track', name='sql_db_list_tables', id='75dc0b86-3969-4def-b694-3be3c2e81e37', tool_call_id='22753eda-2077-40b1-b89d-673b87d1c541')]}}\n",
      "{'agent': {'messages': [AIMessage(content=\"<think>\\nOkay, the user asked for the titles of the albums. First, I need to figure out which table contains album information. The available tables include Album, Artist, Customer, etc. The Album table is likely the right one.\\n\\nNext, I should check the schema of the Album table to see what columns it has. The user might be looking for the 'Title' column, but I need to confirm. Using the sql_db_schema function on the Album table will give me the structure and sample rows. Once I have that, I can construct a query to select the Title column. If there's an error, like an unknown column, I'll adjust accordingly. Finally, I'll execute the query to get the album titles.\\n</think>\\n\\n\", additional_kwargs={}, response_metadata={'model': 'qwen3:8b', 'created_at': '2025-07-08T09:03:29.9542016Z', 'done': True, 'done_reason': 'stop', 'total_duration': 13317836900, 'load_duration': 33396800, 'prompt_eval_count': 781, 'prompt_eval_duration': 271487000, 'eval_count': 172, 'eval_duration': 13003745500, 'model_name': 'qwen3:8b'}, id='run--f682e102-d536-4a54-9b9e-2b871d3c42b6-0', tool_calls=[{'name': 'sql_db_schema', 'args': {'table_names': 'Album'}, 'id': '450c9915-8233-4e6f-aebb-2c1a3074d949', 'type': 'tool_call'}], usage_metadata={'input_tokens': 781, 'output_tokens': 172, 'total_tokens': 953})]}}\n",
      "{'tools': {'messages': [ToolMessage(content='\\nCREATE TABLE \"Album\" (\\n\\t\"AlbumId\" INTEGER NOT NULL, \\n\\t\"Title\" NVARCHAR(160) NOT NULL, \\n\\t\"ArtistId\" INTEGER NOT NULL, \\n\\tPRIMARY KEY (\"AlbumId\"), \\n\\tFOREIGN KEY(\"ArtistId\") REFERENCES \"Artist\" (\"ArtistId\")\\n)\\n\\n/*\\n3 rows from Album table:\\nAlbumId\\tTitle\\tArtistId\\n1\\tFor Those About To Rock We Salute You\\t1\\n2\\tBalls to the Wall\\t2\\n3\\tRestless and Wild\\t2\\n*/', name='sql_db_schema', id='51bd9a80-c33c-47a5-8e1d-1ad12be2957b', tool_call_id='450c9915-8233-4e6f-aebb-2c1a3074d949')]}}\n",
      "{'agent': {'messages': [AIMessage(content=\"<think>\\nOkay, the user wants the titles of the albums. From the previous steps, I checked the tables and found the 'Album' table. Then I looked at its schema and saw that it has a 'Title' column. The sample rows show that the Title is stored there. So now I just need to query the Album table to select the Title column. Let me make sure the SQL is correct. The query should be SELECT Title FROM Album;. I'll use the sql_db_query_checker to verify it. If it's good, then execute it and return the titles.\\n</think>\\n\\n\", additional_kwargs={}, response_metadata={'model': 'qwen3:8b', 'created_at': '2025-07-08T09:03:41.6402852Z', 'done': True, 'done_reason': 'stop', 'total_duration': 11680835400, 'load_duration': 33913200, 'prompt_eval_count': 1057, 'prompt_eval_duration': 419288500, 'eval_count': 145, 'eval_duration': 11208529000, 'model_name': 'qwen3:8b'}, id='run--100613d1-c694-4c54-a8b9-9025590aa8c4-0', tool_calls=[{'name': 'sql_db_query', 'args': {'query': 'SELECT Title FROM Album;'}, 'id': '9e7cf65c-1c56-494c-ad8b-27cf01bb20a1', 'type': 'tool_call'}], usage_metadata={'input_tokens': 1057, 'output_tokens': 145, 'total_tokens': 1202})]}}\n",
      "{'tools': {'messages': [ToolMessage(content='[(\\'For Those About To Rock We Salute You\\',), (\\'Balls to the Wall\\',), (\\'Restless and Wild\\',), (\\'Let There Be Rock\\',), (\\'Big Ones\\',), (\\'Jagged Little Pill\\',), (\\'Facelift\\',), (\\'Warner 25 Anos\\',), (\\'Plays Metallica By Four Cellos\\',), (\\'Audioslave\\',), (\\'Out Of Exile\\',), (\\'BackBeat Soundtrack\\',), (\\'The Best Of Billy Cobham\\',), (\\'Alcohol Fueled Brewtality Live! [Disc 1]\\',), (\\'Alcohol Fueled Brewtality Live! [Disc 2]\\',), (\\'Black Sabbath\\',), (\\'Black Sabbath Vol. 4 (Remaster)\\',), (\\'Body Count\\',), (\\'Chemical Wedding\\',), (\\'The Best Of Buddy Guy - The Millenium Collection\\',), (\\'Prenda Minha\\',), (\\'Sozinho Remix Ao Vivo\\',), (\\'Minha Historia\\',), (\\'Afrociberdelia\\',), (\\'Da Lama Ao Caos\\',), (\\'Acústico MTV [Live]\\',), (\\'Cidade Negra - Hits\\',), (\\'Na Pista\\',), (\\'Axé Bahia 2001\\',), (\\'BBC Sessions [Disc 1] [Live]\\',), (\\'Bongo Fury\\',), (\\'Carnaval 2001\\',), (\\'Chill: Brazil (Disc 1)\\',), (\\'Chill: Brazil (Disc 2)\\',), (\\'Garage Inc. (Disc 1)\\',), (\\'Greatest Hits II\\',), (\\'Greatest Kiss\\',), (\\'Heart of the Night\\',), (\\'International Superhits\\',), (\\'Into The Light\\',), (\\'Meus Momentos\\',), (\\'Minha História\\',), (\\'MK III The Final Concerts [Disc 1]\\',), (\\'Physical Graffiti [Disc 1]\\',), (\\'Sambas De Enredo 2001\\',), (\\'Supernatural\\',), (\\'The Best of Ed Motta\\',), (\\'The Essential Miles Davis [Disc 1]\\',), (\\'The Essential Miles Davis [Disc 2]\\',), (\\'The Final Concerts (Disc 2)\\',), (\"Up An\\' Atom\",), (\\'Vinícius De Moraes - Sem Limite\\',), (\\'Vozes do MPB\\',), (\\'Chronicle, Vol. 1\\',), (\\'Chronicle, Vol. 2\\',), (\\'Cássia Eller - Coleção Sem Limite [Disc 2]\\',), (\\'Cássia Eller - Sem Limite [Disc 1]\\',), (\\'Come Taste The Band\\',), (\\'Deep Purple In Rock\\',), (\\'Fireball\\',), (\"Knocking at Your Back Door: The Best Of Deep Purple in the 80\\'s\",), (\\'Machine Head\\',), (\\'Purpendicular\\',), (\\'Slaves And Masters\\',), (\\'Stormbringer\\',), (\\'The Battle Rages On\\',), (\"Vault: Def Leppard\\'s Greatest Hits\",), (\\'Outbreak\\',), (\\'Djavan Ao Vivo - Vol. 02\\',), (\\'Djavan Ao Vivo - Vol. 1\\',), (\\'Elis Regina-Minha História\\',), (\\'The Cream Of Clapton\\',), (\\'Unplugged\\',), (\\'Album Of The Year\\',), (\\'Angel Dust\\',), (\\'King For A Day Fool For A Lifetime\\',), (\\'The Real Thing\\',), (\\'Deixa Entrar\\',), (\\'In Your Honor [Disc 1]\\',), (\\'In Your Honor [Disc 2]\\',), (\\'One By One\\',), (\\'The Colour And The Shape\\',), (\\'My Way: The Best Of Frank Sinatra [Disc 1]\\',), (\\'Roda De Funk\\',), (\\'As Canções de Eu Tu Eles\\',), (\\'Quanta Gente Veio Ver (Live)\\',), (\\'Quanta Gente Veio ver--Bônus De Carnaval\\',), (\\'Faceless\\',), (\\'American Idiot\\',), (\\'Appetite for Destruction\\',), (\\'Use Your Illusion I\\',), (\\'Use Your Illusion II\\',), (\\'Blue Moods\\',), (\\'A Matter of Life and Death\\',), (\\'A Real Dead One\\',), (\\'A Real Live One\\',), (\\'Brave New World\\',), (\\'Dance Of Death\\',), (\\'Fear Of The Dark\\',), (\\'Iron Maiden\\',), (\\'Killers\\',), (\\'Live After Death\\',), (\\'Live At Donington 1992 (Disc 1)\\',), (\\'Live At Donington 1992 (Disc 2)\\',), (\\'No Prayer For The Dying\\',), (\\'Piece Of Mind\\',), (\\'Powerslave\\',), (\\'Rock In Rio [CD1]\\',), (\\'Rock In Rio [CD2]\\',), (\\'Seventh Son of a Seventh Son\\',), (\\'Somewhere in Time\\',), (\\'The Number of The Beast\\',), (\\'The X Factor\\',), (\\'Virtual XI\\',), (\\'Sex Machine\\',), (\\'Emergency On Planet Earth\\',), (\\'Synkronized\\',), (\\'The Return Of The Space Cowboy\\',), (\\'Get Born\\',), (\\'Are You Experienced?\\',), (\\'Surfing with the Alien (Remastered)\\',), (\\'Jorge Ben Jor 25 Anos\\',), (\\'Jota Quest-1995\\',), (\\'Cafezinho\\',), (\\'Living After Midnight\\',), (\\'Unplugged [Live]\\',), (\\'BBC Sessions [Disc 2] [Live]\\',), (\\'Coda\\',), (\\'Houses Of The Holy\\',), (\\'In Through The Out Door\\',), (\\'IV\\',), (\\'Led Zeppelin I\\',), (\\'Led Zeppelin II\\',), (\\'Led Zeppelin III\\',), (\\'Physical Graffiti [Disc 2]\\',), (\\'Presence\\',), (\\'The Song Remains The Same (Disc 1)\\',), (\\'The Song Remains The Same (Disc 2)\\',), (\\'A TempestadeTempestade Ou O Livro Dos Dias\\',), (\\'Mais Do Mesmo\\',), (\\'Greatest Hits\\',), (\\'Lulu Santos - RCA 100 Anos De Música - Álbum 01\\',), (\\'Lulu Santos - RCA 100 Anos De Música - Álbum 02\\',), (\\'Misplaced Childhood\\',), (\\'Barulhinho Bom\\',), (\\'Seek And Shall Find: More Of The Best (1963-1981)\\',), (\\'The Best Of Men At Work\\',), (\\'Black Album\\',), (\\'Garage Inc. (Disc 2)\\',), (\"Kill \\'Em All\",), (\\'Load\\',), (\\'Master Of Puppets\\',), (\\'ReLoad\\',), (\\'Ride The Lightning\\',), (\\'St. Anger\\',), (\\'...And Justice For All\\',), (\\'Miles Ahead\\',), (\\'Milton Nascimento Ao Vivo\\',), (\\'Minas\\',), (\\'Ace Of Spades\\',), (\\'Demorou...\\',), (\\'Motley Crue Greatest Hits\\',), (\\'From The Muddy Banks Of The Wishkah [Live]\\',), (\\'Nevermind\\',), (\\'Compositores\\',), (\\'Olodum\\',), (\\'Acústico MTV\\',), (\\'Arquivo II\\',), (\\'Arquivo Os Paralamas Do Sucesso\\',), (\\'Bark at the Moon (Remastered)\\',), (\\'Blizzard of Ozz\\',), (\\'Diary of a Madman (Remastered)\\',), (\\'No More Tears (Remastered)\\',), (\\'Tribute\\',), (\\'Walking Into Clarksdale\\',), (\\'Original Soundtracks 1\\',), (\\'The Beast Live\\',), (\\'Live On Two Legs [Live]\\',), (\\'Pearl Jam\\',), (\\'Riot Act\\',), (\\'Ten\\',), (\\'Vs.\\',), (\\'Dark Side Of The Moon\\',), (\\'Os Cães Ladram Mas A Caravana Não Pára\\',), (\\'Greatest Hits I\\',), (\\'News Of The World\\',), (\\'Out Of Time\\',), (\\'Green\\',), (\\'New Adventures In Hi-Fi\\',), (\\'The Best Of R.E.M.: The IRS Years\\',), (\\'Cesta Básica\\',), (\\'Raul Seixas\\',), (\\'Blood Sugar Sex Magik\\',), (\\'By The Way\\',), (\\'Californication\\',), (\\'Retrospective I (1974-1980)\\',), (\\'Santana - As Years Go By\\',), (\\'Santana Live\\',), (\\'Maquinarama\\',), (\\'O Samba Poconé\\',), (\\'Judas 0: B-Sides and Rarities\\',), (\\'Rotten Apples: Greatest Hits\\',), (\\'A-Sides\\',), (\\'Morning Dance\\',), (\\'In Step\\',), (\\'Core\\',), (\\'Mezmerize\\',), (\\'[1997] Black Light Syndrome\\',), (\\'Live [Disc 1]\\',), (\\'Live [Disc 2]\\',), (\\'The Singles\\',), (\\'Beyond Good And Evil\\',), (\\'Pure Cult: The Best Of The Cult (For Rockers, Ravers, Lovers & Sinners) [UK]\\',), (\\'The Doors\\',), (\\'The Police Greatest Hits\\',), (\\'Hot Rocks, 1964-1971 (Disc 1)\\',), (\\'No Security\\',), (\\'Voodoo Lounge\\',), (\\'Tangents\\',), (\\'Transmission\\',), (\\'My Generation - The Very Best Of The Who\\',), (\\'Serie Sem Limite (Disc 1)\\',), (\\'Serie Sem Limite (Disc 2)\\',), (\\'Acústico\\',), (\\'Volume Dois\\',), (\\'Battlestar Galactica: The Story So Far\\',), (\\'Battlestar Galactica, Season 3\\',), (\\'Heroes, Season 1\\',), (\\'Lost, Season 3\\',), (\\'Lost, Season 1\\',), (\\'Lost, Season 2\\',), (\\'Achtung Baby\\',), (\"All That You Can\\'t Leave Behind\",), (\\'B-Sides 1980-1990\\',), (\\'How To Dismantle An Atomic Bomb\\',), (\\'Pop\\',), (\\'Rattle And Hum\\',), (\\'The Best Of 1980-1990\\',), (\\'War\\',), (\\'Zooropa\\',), (\\'UB40 The Best Of - Volume Two [UK]\\',), (\\'Diver Down\\',), (\\'The Best Of Van Halen, Vol. I\\',), (\\'Van Halen\\',), (\\'Van Halen III\\',), (\\'Contraband\\',), (\\'Vinicius De Moraes\\',), (\\'Ao Vivo [IMPORT]\\',), (\\'The Office, Season 1\\',), (\\'The Office, Season 2\\',), (\\'The Office, Season 3\\',), (\\'Un-Led-Ed\\',), (\\'Battlestar Galactica (Classic), Season 1\\',), (\\'Aquaman\\',), (\\'Instant Karma: The Amnesty International Campaign to Save Darfur\\',), (\\'Speak of the Devil\\',), (\\'20th Century Masters - The Millennium Collection: The Best of Scorpions\\',), (\\'House of Pain\\',), (\\'Radio Brasil (O Som da Jovem Vanguarda) - Seleccao de Henrique Amaro\\',), (\\'Cake: B-Sides and Rarities\\',), (\\'LOST, Season 4\\',), (\\'Quiet Songs\\',), (\\'Muso Ko\\',), (\\'Realize\\',), (\\'Every Kind of Light\\',), (\\'Duos II\\',), (\\'Worlds\\',), (\\'The Best of Beethoven\\',), (\\'Temple of the Dog\\',), (\\'Carry On\\',), (\\'Revelations\\',), (\\'Adorate Deum: Gregorian Chant from the Proper of the Mass\\',), (\\'Allegri: Miserere\\',), (\\'Pachelbel: Canon & Gigue\\',), (\\'Vivaldi: The Four Seasons\\',), (\\'Bach: Violin Concertos\\',), (\\'Bach: Goldberg Variations\\',), (\\'Bach: The Cello Suites\\',), (\\'Handel: The Messiah (Highlights)\\',), (\\'The World of Classical Favourites\\',), (\\'Sir Neville Marriner: A Celebration\\',), (\\'Mozart: Wind Concertos\\',), (\\'Haydn: Symphonies 99 - 104\\',), (\\'Beethoven: Symhonies Nos. 5 & 6\\',), (\\'A Soprano Inspired\\',), (\\'Great Opera Choruses\\',), (\\'Wagner: Favourite Overtures\\',), (\\'Fauré: Requiem, Ravel: Pavane & Others\\',), (\\'Tchaikovsky: The Nutcracker\\',), (\\'The Last Night of the Proms\\',), (\\'Puccini: Madama Butterfly - Highlights\\',), (\\'Holst: The Planets, Op. 32 & Vaughan Williams: Fantasies\\',), (\"Pavarotti\\'s Opera Made Easy\",), (\"Great Performances - Barber\\'s Adagio and Other Romantic Favorites for Strings\",), (\\'Carmina Burana\\',), (\\'A Copland Celebration, Vol. I\\',), (\\'Bach: Toccata & Fugue in D Minor\\',), (\\'Prokofiev: Symphony No.1\\',), (\\'Scheherazade\\',), (\\'Bach: The Brandenburg Concertos\\',), (\\'Chopin: Piano Concertos Nos. 1 & 2\\',), (\\'Mascagni: Cavalleria Rusticana\\',), (\\'Sibelius: Finlandia\\',), (\\'Beethoven Piano Sonatas: Moonlight & Pastorale\\',), (\\'Great Recordings of the Century - Mahler: Das Lied von der Erde\\',), (\\'Elgar: Cello Concerto & Vaughan Williams: Fantasias\\',), (\\'Adams, John: The Chairman Dances\\',), (\"Tchaikovsky: 1812 Festival Overture, Op.49, Capriccio Italien & Beethoven: Wellington\\'s Victory\",), (\\'Palestrina: Missa Papae Marcelli & Allegri: Miserere\\',), (\\'Prokofiev: Romeo & Juliet\\',), (\\'Strauss: Waltzes\\',), (\\'Berlioz: Symphonie Fantastique\\',), (\\'Bizet: Carmen Highlights\\',), (\\'English Renaissance\\',), (\\'Handel: Music for the Royal Fireworks (Original Version 1749)\\',), (\\'Grieg: Peer Gynt Suites & Sibelius: Pelléas et Mélisande\\',), (\\'Mozart Gala: Famous Arias\\',), (\\'SCRIABIN: Vers la flamme\\',), (\\'Armada: Music from the Courts of England and Spain\\',), (\\'Mozart: Symphonies Nos. 40 & 41\\',), (\\'Back to Black\\',), (\\'Frank\\',), (\\'Carried to Dust (Bonus Track Version)\\',), (\"Beethoven: Symphony No. 6 \\'Pastoral\\' Etc.\",), (\\'Bartok: Violin & Viola Concertos\\',), (\"Mendelssohn: A Midsummer Night\\'s Dream\",), (\\'Bach: Orchestral Suites Nos. 1 - 4\\',), (\\'Charpentier: Divertissements, Airs & Concerts\\',), (\\'South American Getaway\\',), (\\'Górecki: Symphony No. 3\\',), (\\'Purcell: The Fairy Queen\\',), (\\'The Ultimate Relexation Album\\',), (\\'Purcell: Music for the Queen Mary\\',), (\\'Weill: The Seven Deadly Sins\\',), (\\'J.S. Bach: Chaconne, Suite in E Minor, Partita in E Major & Prelude, Fugue and Allegro\\',), (\\'Prokofiev: Symphony No.5 & Stravinksy: Le Sacre Du Printemps\\',), (\\'Szymanowski: Piano Works, Vol. 1\\',), (\\'Nielsen: The Six Symphonies\\',), (\"Great Recordings of the Century: Paganini\\'s 24 Caprices\",), (\"Liszt - 12 Études D\\'Execution Transcendante\",), (\\'Great Recordings of the Century - Shubert: Schwanengesang, 4 Lieder\\',), (\\'Locatelli: Concertos for Violin, Strings and Continuo, Vol. 3\\',), (\\'Respighi:Pines of Rome\\',), (\"Schubert: The Late String Quartets & String Quintet (3 CD\\'s)\",), (\"Monteverdi: L\\'Orfeo\",), (\\'Mozart: Chamber Music\\',), (\\'Koyaanisqatsi (Soundtrack from the Motion Picture)\\',)]', name='sql_db_query', id='20132447-ccb7-487b-a098-59e2a0298b8f', tool_call_id='9e7cf65c-1c56-494c-ad8b-27cf01bb20a1')]}}\n",
      "{'agent': {'messages': [AIMessage(content=\"<think>\\n</think>\\n\\nHere are the titles of the albums from the database:\\n\\n1. For Those About To Rock We Salute You  \\n2. Balls to the Wall  \\n3. Restless and Wild  \\n4. Let There Be Rock  \\n5. Big Ones  \\n6. Jagged Little Pill  \\n7. ... (and so on, with over 300 album titles listed in total)\\n\\nLet me know if you'd like them sorted by artist, year, or genre!\", additional_kwargs={}, response_metadata={'model': 'qwen3:8b', 'created_at': '2025-07-08T09:04:02.8004934Z', 'done': True, 'done_reason': 'stop', 'total_duration': 21155294600, 'load_duration': 33819200, 'prompt_eval_count': 4037, 'prompt_eval_duration': 10988036300, 'eval_count': 98, 'eval_duration': 10103509000, 'model_name': 'qwen3:8b'}, id='run--08fa71f7-18f5-496f-ab92-e21683e76b26-0', usage_metadata={'input_tokens': 4037, 'output_tokens': 98, 'total_tokens': 4135})]}}\n"
     ]
    }
   ],
   "source": [
    "question = \"What are the titles of the albums?\"\n",
    "query = {\"messages\": [HumanMessage(question)]}\n",
    "\n",
    "for step in agent_executor.stream(query, stream_mode=\"updates\"):\n",
    "    print(step)\n",
    "    # step['messages'][-1].pretty_print()"
   ]
  },
  {
   "cell_type": "code",
   "execution_count": 86,
   "id": "be14614a",
   "metadata": {},
   "outputs": [
    {
     "name": "stdout",
     "output_type": "stream",
     "text": [
      "There are **3,503 tracks** in the database.\n"
     ]
    }
   ],
   "source": [
    "def extract_final_answer(agent_output):\n",
    "    \"\"\"Smart extraction of the clean final answer from any agent output structure\"\"\"\n",
    "    if isinstance(agent_output, dict) and 'agent' in agent_output:\n",
    "        last_message = agent_output['agent']['messages'][-1]\n",
    "        if hasattr(last_message, 'content'):\n",
    "            # Remove all XML/thinking tags and their content\n",
    "            import re\n",
    "            clean_content = re.sub(r'<think>.*?</think>', '', last_message.content, flags=re.DOTALL)\n",
    "            \n",
    "            # Remove empty lines and excessive whitespace\n",
    "            clean_content = '\\n'.join(\n",
    "                line.strip() for line in clean_content.split('\\n') \n",
    "                if line.strip()\n",
    "            )\n",
    "            \n",
    "            # Remove any remaining JSON/technical artifacts\n",
    "            clean_content = re.sub(r'\\{.*?\\}|\\[.*?\\]|\\(.*?\\)', '', clean_content)\n",
    "            \n",
    "            return clean_content.strip()\n",
    "    return None\n",
    "\n",
    "# Main processing\n",
    "question = \"How many tracks are there?\"\n",
    "query = {\"messages\": [HumanMessage(question)]}\n",
    "\n",
    "for step in agent_executor.stream(query, stream_mode=\"updates\"):\n",
    "    final_answer = extract_final_answer(step)\n",
    "    if final_answer:\n",
    "        print(final_answer)\n",
    "        break  # Stop after getting the first valid answer"
   ]
  },
  {
   "cell_type": "code",
   "execution_count": null,
   "id": "4a58cbcd",
   "metadata": {},
   "outputs": [],
   "source": []
  }
 ],
 "metadata": {
  "kernelspec": {
   "display_name": "venv",
   "language": "python",
   "name": "python3"
  },
  "language_info": {
   "codemirror_mode": {
    "name": "ipython",
    "version": 3
   },
   "file_extension": ".py",
   "mimetype": "text/x-python",
   "name": "python",
   "nbconvert_exporter": "python",
   "pygments_lexer": "ipython3",
   "version": "3.13.2"
  }
 },
 "nbformat": 4,
 "nbformat_minor": 5
}
